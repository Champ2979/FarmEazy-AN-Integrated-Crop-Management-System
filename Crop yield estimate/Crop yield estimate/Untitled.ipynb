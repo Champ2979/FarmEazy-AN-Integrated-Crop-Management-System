{
 "cells": [
  {
   "cell_type": "code",
   "execution_count": 1,
   "id": "a453abd7",
   "metadata": {},
   "outputs": [
    {
     "name": "stdout",
     "output_type": "stream",
     "text": [
      "   id_column  category_column_B  another_column_Y\n",
      "0          1                0.0               0.0\n",
      "1          2                1.0               1.0\n",
      "2          3                0.0               0.0\n"
     ]
    }
   ],
   "source": [
    "import pandas as pd\n",
    "from sklearn.preprocessing import OneHotEncoder\n",
    "\n",
    "def one_hot_encode_dataframe(df, exclude_columns=[]):\n",
    "    # Identify categorical columns\n",
    "    categorical_columns = df.select_dtypes(include=['object']).columns\n",
    "\n",
    "    # Exclude specified columns\n",
    "    categorical_columns = [col for col in categorical_columns if col not in exclude_columns]\n",
    "\n",
    "    # Create a DataFrame with only the categorical columns\n",
    "    df_categorical = df[categorical_columns]\n",
    "\n",
    "    # Create a DataFrame with the non-categorical columns\n",
    "    df_non_categorical = df.drop(columns=categorical_columns)\n",
    "\n",
    "    # Instantiate the OneHotEncoder\n",
    "    encoder = OneHotEncoder(sparse=False, drop='first')  # Use drop='first' to avoid the dummy variable trap\n",
    "\n",
    "    # Fit and transform the categorical columns\n",
    "    encoded_data = encoder.fit_transform(df_categorical)\n",
    "\n",
    "    # Create a DataFrame with the encoded data and column names\n",
    "    encoded_df = pd.DataFrame(encoded_data, columns=encoder.get_feature_names_out(df_categorical.columns))\n",
    "\n",
    "    # Concatenate the original non-categorical DataFrame with the encoded DataFrame\n",
    "    df_encoded = pd.concat([df_non_categorical, encoded_df], axis=1)\n",
    "\n",
    "    return df_encoded\n",
    "\n",
    "# Example usage:\n",
    "# Assuming you have a DataFrame named 'your_dataframe' with ID column 'id_column'\n",
    "# You want to exclude the 'id_column' from one-hot encoding\n",
    "your_dataframe = pd.DataFrame({\n",
    "    'id_column': [1, 2, 3],\n",
    "    'category_column': ['A', 'B', 'A'],\n",
    "    'another_column': ['X', 'Y', 'X']\n",
    "})\n",
    "\n",
    "# Specify the columns to exclude (e.g., ID columns)\n",
    "exclude_columns = ['id_column']\n",
    "\n",
    "# Apply one-hot encoding excluding specified columns\n",
    "encoded_dataframe = one_hot_encode_dataframe(your_dataframe, exclude_columns)\n",
    "\n",
    "# Display the result\n",
    "print(encoded_dataframe)"
   ]
  },
  {
   "cell_type": "code",
   "execution_count": null,
   "id": "0db88243",
   "metadata": {},
   "outputs": [],
   "source": []
  }
 ],
 "metadata": {
  "kernelspec": {
   "display_name": "Python 3 (ipykernel)",
   "language": "python",
   "name": "python3"
  },
  "language_info": {
   "codemirror_mode": {
    "name": "ipython",
    "version": 3
   },
   "file_extension": ".py",
   "mimetype": "text/x-python",
   "name": "python",
   "nbconvert_exporter": "python",
   "pygments_lexer": "ipython3",
   "version": "3.11.7"
  }
 },
 "nbformat": 4,
 "nbformat_minor": 5
}
