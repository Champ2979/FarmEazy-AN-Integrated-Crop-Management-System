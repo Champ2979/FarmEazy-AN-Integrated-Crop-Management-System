{
 "cells": [
  {
   "cell_type": "code",
   "execution_count": 1,
   "id": "2e202490",
   "metadata": {},
   "outputs": [
    {
     "name": "stderr",
     "output_type": "stream",
     "text": [
      "d:\\Study\\EPICS\\myenv\\lib\\site-packages\\tqdm\\auto.py:21: TqdmWarning: IProgress not found. Please update jupyter and ipywidgets. See https://ipywidgets.readthedocs.io/en/stable/user_install.html\n",
      "  from .autonotebook import tqdm as notebook_tqdm\n"
     ]
    }
   ],
   "source": [
    "import joblib\n",
    "\n",
    "# Load the model with specified encoding\n",
    "model = joblib.load('learn_model.joblib')"
   ]
  },
  {
   "cell_type": "code",
   "execution_count": 2,
   "id": "7778a824",
   "metadata": {},
   "outputs": [],
   "source": [
    "import pandas as pd\n",
    "Train= pd.read_csv('Train.csv')"
   ]
  },
  {
   "cell_type": "code",
   "execution_count": 3,
   "id": "fe7339da",
   "metadata": {},
   "outputs": [],
   "source": [
    "damage = Train.Label.unique()"
   ]
  },
  {
   "cell_type": "code",
   "execution_count": 7,
   "id": "2a2645a7",
   "metadata": {},
   "outputs": [
    {
     "data": {
      "text/html": [
       "\n",
       "<style>\n",
       "    /* Turns off some styling */\n",
       "    progress {\n",
       "        /* gets rid of default border in Firefox and Opera. */\n",
       "        border: none;\n",
       "        /* Needs to be in here for Safari polyfill so background images work as expected. */\n",
       "        background-size: auto;\n",
       "    }\n",
       "    progress:not([value]), progress:not([value])::-webkit-progress-bar {\n",
       "        background: repeating-linear-gradient(45deg, #7e7e7e, #7e7e7e 10px, #5c5c5c 10px, #5c5c5c 20px);\n",
       "    }\n",
       "    .progress-bar-interrupted, .progress-bar-interrupted::-webkit-progress-bar {\n",
       "        background: #F44336;\n",
       "    }\n",
       "</style>\n"
      ],
      "text/plain": [
       "<IPython.core.display.HTML object>"
      ]
     },
     "metadata": {},
     "output_type": "display_data"
    },
    {
     "data": {
      "text/html": [],
      "text/plain": [
       "<IPython.core.display.HTML object>"
      ]
     },
     "metadata": {},
     "output_type": "display_data"
    }
   ],
   "source": [
    "test_dl = model.dls.test_dl(r\"id_00stp9t6m6.jpg\")\n",
    "preds , _ = model.get_preds(dl=test_dl)"
   ]
  },
  {
   "cell_type": "code",
   "execution_count": 8,
   "id": "31ae1a72",
   "metadata": {},
   "outputs": [],
   "source": [
    "from fastai.vision.all import *\n",
    "preds = F.softmax(preds, dim=1)"
   ]
  },
  {
   "cell_type": "code",
   "execution_count": 9,
   "id": "bef281b2",
   "metadata": {},
   "outputs": [
    {
     "name": "stdout",
     "output_type": "stream",
     "text": [
      "blast: 0.5684\n",
      "healthy: 0.2175\n",
      "brown: 0.2141\n"
     ]
    },
    {
     "data": {
      "image/png": "[encoded data removed]",
      "text/plain": [
       "<Figure size 640x480 with 1 Axes>"
      ]
     },
     "metadata": {},
     "output_type": "display_data"
    }
   ],
   "source": [
    "# Assuming 'damage' is the target variable in your model\n",
    "damage_classes = model.dls.vocab\n",
    "damage_labels = list(damage_classes)\n",
    "\n",
    "# Get the predicted probabilities for each class\n",
    "predicted_probabilities = preds[0].tolist()\n",
    "\n",
    "# Create a dictionary to associate each damage class with its predicted probability\n",
    "prediction_dict = dict(zip(damage_labels, predicted_probabilities))\n",
    "\n",
    "# Sort the dictionary based on probabilities in descending order\n",
    "sorted_predictions = sorted(prediction_dict.items(), key=lambda x: x[1], reverse=True)\n",
    "\n",
    "# Display the predictions\n",
    "for damage_class, probability in sorted_predictions:\n",
    "    print(f\"{damage_class}: {probability:.4f}\")\n",
    "\n",
    "import matplotlib.pyplot as plt\n",
    "\n",
    "plt.bar(damage_labels, predicted_probabilities)\n",
    "plt.xlabel('Damage Class')\n",
    "plt.ylabel('Predicted Probability')\n",
    "plt.title('Predicted Probabilities for Different Damage Classes')\n",
    "plt.show()"
   ]
  },
  {
   "cell_type": "code",
   "execution_count": null,
   "id": "8d54198a",
   "metadata": {},
   "outputs": [],
   "source": []
  },
  {
   "cell_type": "code",
   "execution_count": null,
   "id": "d783fb70",
   "metadata": {},
   "outputs": [],
   "source": []
  },
  {
   "cell_type": "code",
   "execution_count": null,
   "id": "86ebcbd8-2107-4599-b04e-754d396d5b46",
   "metadata": {},
   "outputs": [],
   "source": []
  }
 ],
 "metadata": {
  "kernelspec": {
   "display_name": "Python 3 (ipykernel)",
   "language": "python",
   "name": "python3"
  },
  "language_info": {
   "codemirror_mode": {
    "name": "ipython",
    "version": 3
   },
   "file_extension": ".py",
   "mimetype": "text/x-python",
   "name": "python",
   "nbconvert_exporter": "python",
   "pygments_lexer": "ipython3",
   "version": "3.9.0"
  }
 },
 "nbformat": 4,
 "nbformat_minor": 5
}
