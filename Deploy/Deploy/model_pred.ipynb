{
 "cells": [
  {
   "cell_type": "code",
   "execution_count": null,
   "id": "2e202490",
   "metadata": {},
   "outputs": [],
   "source": [
    "import joblib\n",
    "\n",
    "# Load the model\n",
    "model = joblib.load('learn_model.joblib')"
   ]
  },
  {
   "cell_type": "code",
   "execution_count": null,
   "id": "7778a824",
   "metadata": {},
   "outputs": [],
   "source": [
    "import pandas as pd\n",
    "Train= pd.read_csv('Train.csv')"
   ]
  },
  {
   "cell_type": "code",
   "execution_count": null,
   "id": "fe7339da",
   "metadata": {},
   "outputs": [],
   "source": [
    "damage = Train.damage.unique()"
   ]
  },
  {
   "cell_type": "code",
   "execution_count": null,
   "id": "2a2645a7",
   "metadata": {},
   "outputs": [],
   "source": [
    "test_dl = model.dls.test_dl('00a4ccd8c6f3f26657085ac06965cd636bc99540.jpg')\n",
    "preds , _ = model.get_preds(dl=test_dl)"
   ]
  },
  {
   "cell_type": "code",
   "execution_count": null,
   "id": "59de4f1e",
   "metadata": {},
   "outputs": [],
   "source": [
    "from fastai.vision.all import *\n",
    "preds = F.softmax(preds, dim=1)"
   ]
  },
  {
   "cell_type": "code",
   "execution_count": null,
   "id": "bef281b2",
   "metadata": {},
   "outputs": [],
   "source": [
    "# Assuming 'damage' is the target variable in your model\n",
    "damage_classes = model.dls.vocab\n",
    "damage_labels = list(damage_classes)\n",
    "\n",
    "# Get the predicted probabilities for each class\n",
    "predicted_probabilities = preds[0].tolist()\n",
    "\n",
    "# Create a dictionary to associate each damage class with its predicted probability\n",
    "prediction_dict = dict(zip(damage_labels, predicted_probabilities))\n",
    "\n",
    "# Sort the dictionary based on probabilities in descending order\n",
    "sorted_predictions = sorted(prediction_dict.items(), key=lambda x: x[1], reverse=True)\n",
    "\n",
    "# Display the predictions\n",
    "for damage_class, probability in sorted_predictions:\n",
    "    print(f\"{damage_class}: {probability:.4f}\")\n",
    "\n",
    "import matplotlib.pyplot as plt\n",
    "\n",
    "plt.bar(damage_labels, predicted_probabilities)\n",
    "plt.xlabel('Damage Class')\n",
    "plt.ylabel('Predicted Probability')\n",
    "plt.title('Predicted Probabilities for Different Damage Classes')\n",
    "plt.show()"
   ]
  }
 ],
 "metadata": {
  "kernelspec": {
   "display_name": "Python 3 (ipykernel)",
   "language": "python",
   "name": "python3"
  },
  "language_info": {
   "codemirror_mode": {
    "name": "ipython",
    "version": 3
   },
   "file_extension": ".py",
   "mimetype": "text/x-python",
   "name": "python",
   "nbconvert_exporter": "python",
   "pygments_lexer": "ipython3",
   "version": "3.9.0"
  }
 },
 "nbformat": 4,
 "nbformat_minor": 5
}
